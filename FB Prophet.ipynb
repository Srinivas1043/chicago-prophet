{
 "cells": [
  {
   "cell_type": "code",
   "execution_count": 1,
   "id": "front-blackjack",
   "metadata": {},
   "outputs": [
    {
     "name": "stderr",
     "output_type": "stream",
     "text": [
      "Importing plotly failed. Interactive plots will not work.\n"
     ]
    }
   ],
   "source": [
    "# Importing Dataset\n",
    "\n",
    "import pandas as pd\n",
    "import numpy as np \n",
    "import seaborn as sns\n",
    "import matplotlib.pyplot as plt\n",
    "from fbprophet import Prophet"
   ]
  },
  {
   "cell_type": "code",
   "execution_count": 2,
   "id": "refined-privilege",
   "metadata": {},
   "outputs": [
    {
     "name": "stderr",
     "output_type": "stream",
     "text": [
      "b'Skipping line 533719: expected 23 fields, saw 24\\n'\n",
      "b'Skipping line 1149094: expected 23 fields, saw 41\\n'\n"
     ]
    }
   ],
   "source": [
    "chicago_df_1 = pd.read_csv('Chicago_Crimes_2005_to_2007.csv', error_bad_lines = False)\n",
    "chicago_df_2 = pd.read_csv('Chicago_Crimes_2008_to_2011.csv', error_bad_lines = False)\n",
    "chicago_df_3 = pd.read_csv('Chicago_Crimes_2012_to_2017.csv', error_bad_lines = False)"
   ]
  },
  {
   "cell_type": "code",
   "execution_count": null,
   "id": "double-premium",
   "metadata": {},
   "outputs": [],
   "source": [
    "chicago_df_1.shape"
   ]
  },
  {
   "cell_type": "code",
   "execution_count": null,
   "id": "surprising-japan",
   "metadata": {},
   "outputs": [],
   "source": [
    "chicago_df_2.shape"
   ]
  },
  {
   "cell_type": "code",
   "execution_count": null,
   "id": "spiritual-waters",
   "metadata": {},
   "outputs": [],
   "source": [
    "chicago_df_3.shape"
   ]
  },
  {
   "cell_type": "code",
   "execution_count": 3,
   "id": "native-pierce",
   "metadata": {},
   "outputs": [],
   "source": [
    "chicago_df = pd.concat([chicago_df_1, chicago_df_2, chicago_df_3])"
   ]
  },
  {
   "cell_type": "code",
   "execution_count": null,
   "id": "personal-marks",
   "metadata": {},
   "outputs": [],
   "source": [
    "chicago_df.shape"
   ]
  },
  {
   "cell_type": "code",
   "execution_count": null,
   "id": "facial-meeting",
   "metadata": {},
   "outputs": [],
   "source": [
    " #data exploration\n",
    "\n",
    "chicago_df.head(10)"
   ]
  },
  {
   "cell_type": "code",
   "execution_count": null,
   "id": "parental-philip",
   "metadata": {},
   "outputs": [],
   "source": [
    "chicago_df.tail(10)"
   ]
  },
  {
   "cell_type": "code",
   "execution_count": null,
   "id": "optical-knock",
   "metadata": {},
   "outputs": [],
   "source": [
    "#plt.figure(figsize = (10, 10))\n",
    "#sns.heatmap(chicago_df.isnull(), cbar = False, cmap = 'YlGnBu')"
   ]
  },
  {
   "cell_type": "code",
   "execution_count": 4,
   "id": "faced-reason",
   "metadata": {},
   "outputs": [],
   "source": [
    "chicago_df.drop(['Unnamed: 0', 'Case Number','ID','IUCR','X Coordinate','Y Coordinate','Updated On','Year','FBI Code',\n",
    "                'Beat','Ward','Community Area','Location','District','Latitude','Longitude'], inplace = True, axis = 1)"
   ]
  },
  {
   "cell_type": "code",
   "execution_count": null,
   "id": "earned-junior",
   "metadata": {},
   "outputs": [],
   "source": [
    "chicago_df "
   ]
  },
  {
   "cell_type": "code",
   "execution_count": 5,
   "id": "decreased-repair",
   "metadata": {},
   "outputs": [],
   "source": [
    " chicago_df.Date = pd.to_datetime(chicago_df.Date, format = '%m/%d/%Y %I:%M:%S %p')"
   ]
  },
  {
   "cell_type": "code",
   "execution_count": null,
   "id": "ecological-mapping",
   "metadata": {
    "scrolled": true
   },
   "outputs": [],
   "source": [
    "chicago_df.Date"
   ]
  },
  {
   "cell_type": "code",
   "execution_count": 6,
   "id": "acute-brook",
   "metadata": {},
   "outputs": [],
   "source": [
    "chicago_df.index = pd.DatetimeIndex(chicago_df.Date)"
   ]
  },
  {
   "cell_type": "code",
   "execution_count": null,
   "id": "opponent-singles",
   "metadata": {},
   "outputs": [],
   "source": [
    "chicago_df"
   ]
  },
  {
   "cell_type": "code",
   "execution_count": null,
   "id": "satisfied-vessel",
   "metadata": {},
   "outputs": [],
   "source": [
    "chicago_df['Primary Type'].value_counts()"
   ]
  },
  {
   "cell_type": "code",
   "execution_count": null,
   "id": "incident-occasions",
   "metadata": {},
   "outputs": [],
   "source": [
    "chicago_df['Primary Type'].value_counts().iloc[:15]"
   ]
  },
  {
   "cell_type": "code",
   "execution_count": 7,
   "id": "unlike-helping",
   "metadata": {},
   "outputs": [],
   "source": [
    "order_data = chicago_df['Primary Type'].value_counts().iloc[:15].index"
   ]
  },
  {
   "cell_type": "code",
   "execution_count": null,
   "id": "ordered-inspiration",
   "metadata": {},
   "outputs": [],
   "source": [
    "plt.figure(figsize = (15,10))\n",
    "sns.countplot(y = 'Primary Type', data = chicago_df, order=order_data)"
   ]
  },
  {
   "cell_type": "code",
   "execution_count": null,
   "id": "backed-chair",
   "metadata": {},
   "outputs": [],
   "source": [
    "plt.figure(figsize = (15,10))\n",
    "sns.countplot(y = 'Location Description', data = chicago_df, order = chicago_df['Location Description'].value_counts().iloc[:15].index)"
   ]
  },
  {
   "cell_type": "code",
   "execution_count": 8,
   "id": "radio-warrior",
   "metadata": {},
   "outputs": [
    {
     "data": {
      "text/plain": [
       "Date\n",
       "2005-12-31    455811\n",
       "2006-12-31    794684\n",
       "2007-12-31    621848\n",
       "2008-12-31    852053\n",
       "2009-12-31    783900\n",
       "2010-12-31    700691\n",
       "2011-12-31    352066\n",
       "2012-12-31    335670\n",
       "2013-12-31    306703\n",
       "2014-12-31    274527\n",
       "2015-12-31    262995\n",
       "2016-12-31    265462\n",
       "2017-12-31     11357\n",
       "Freq: A-DEC, dtype: int64"
      ]
     },
     "execution_count": 8,
     "metadata": {},
     "output_type": "execute_result"
    }
   ],
   "source": [
    "chicago_df.resample('Y').size()"
   ]
  },
  {
   "cell_type": "code",
   "execution_count": null,
   "id": "cosmetic-softball",
   "metadata": {},
   "outputs": [],
   "source": [
    "plt.plot(chicago_df.resample('Y').size())\n",
    "plt.title('Crime Count per year')\n",
    "plt.xlabel('Years')\n",
    "plt.ylabel('Number of Crimes')"
   ]
  },
  {
   "cell_type": "code",
   "execution_count": null,
   "id": "ordered-working",
   "metadata": {},
   "outputs": [],
   "source": [
    "plt.plot(chicago_df.resample('M').size())\n",
    "plt.title('Crime Count per month')\n",
    "plt.xlabel('Months')\n",
    "plt.ylabel('Number of Crimes') "
   ]
  },
  {
   "cell_type": "code",
   "execution_count": 9,
   "id": "beginning-assignment",
   "metadata": {},
   "outputs": [],
   "source": [
    "chicago_prophet = chicago_df.resample('M').size().reset_index()"
   ]
  },
  {
   "cell_type": "code",
   "execution_count": null,
   "id": "disabled-particular",
   "metadata": {},
   "outputs": [],
   "source": [
    "chicago_prophet"
   ]
  },
  {
   "cell_type": "code",
   "execution_count": 10,
   "id": "exotic-greece",
   "metadata": {},
   "outputs": [],
   "source": [
    "chicago_prophet.columns = ['Date','Crime Count']"
   ]
  },
  {
   "cell_type": "code",
   "execution_count": null,
   "id": "encouraging-leeds",
   "metadata": {},
   "outputs": [],
   "source": [
    "chicago_prophet"
   ]
  },
  {
   "cell_type": "code",
   "execution_count": 11,
   "id": "cooperative-charleston",
   "metadata": {},
   "outputs": [],
   "source": [
    "chicago_prophet_df_final = chicago_prophet.rename(columns = {'Date': 'ds', 'Crime Count':'y'})"
   ]
  },
  {
   "cell_type": "code",
   "execution_count": null,
   "id": "appointed-tongue",
   "metadata": {},
   "outputs": [],
   "source": [
    "chicago_prophet_df_final"
   ]
  },
  {
   "cell_type": "code",
   "execution_count": null,
   "id": "hollow-aside",
   "metadata": {},
   "outputs": [
    {
     "name": "stderr",
     "output_type": "stream",
     "text": [
      "INFO:numexpr.utils:NumExpr defaulting to 4 threads.\n",
      "INFO:fbprophet:Disabling weekly seasonality. Run prophet with weekly_seasonality=True to override this.\n",
      "INFO:fbprophet:Disabling daily seasonality. Run prophet with daily_seasonality=True to override this.\n"
     ]
    }
   ],
   "source": [
    "m = Prophet() \n",
    "m.fit(chicago_prophet_df_final)"
   ]
  },
  {
   "cell_type": "code",
   "execution_count": null,
   "id": "fifteen-bankruptcy",
   "metadata": {},
   "outputs": [],
   "source": [
    "future = m.make_future_dataframe(periods = 365)\n",
    "forecast = m.predict(future)"
   ]
  },
  {
   "cell_type": "code",
   "execution_count": null,
   "id": "british-aaron",
   "metadata": {},
   "outputs": [],
   "source": [
    "forecast"
   ]
  },
  {
   "cell_type": "code",
   "execution_count": null,
   "id": "binding-elimination",
   "metadata": {},
   "outputs": [],
   "source": [
    "figure = m.plot(forecast, xlabel = 'Date', ylabel = 'Crime Rate')"
   ]
  },
  {
   "cell_type": "code",
   "execution_count": null,
   "id": "legitimate-draft",
   "metadata": {},
   "outputs": [],
   "source": [
    "figure = m.plot_components(forecast)"
   ]
  }
 ],
 "metadata": {
  "kernelspec": {
   "display_name": "Python 3",
   "language": "python",
   "name": "python3"
  },
  "language_info": {
   "codemirror_mode": {
    "name": "ipython",
    "version": 3
   },
   "file_extension": ".py",
   "mimetype": "text/x-python",
   "name": "python",
   "nbconvert_exporter": "python",
   "pygments_lexer": "ipython3",
   "version": "3.7.1"
  }
 },
 "nbformat": 4,
 "nbformat_minor": 5
}
